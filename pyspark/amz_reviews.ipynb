{
 "cells": [
  {
   "cell_type": "markdown",
   "metadata": {},
   "source": [
    "# Amazon Review ETL\n",
    "\n",
    "This is an ETL pipeline for Amazon pet product reviews data."
   ]
  },
  {
   "cell_type": "markdown",
   "metadata": {
    "id": "GniGJcylRnFl"
   },
   "source": [
    "## Dependencies"
   ]
  },
  {
   "cell_type": "code",
   "execution_count": 1,
   "metadata": {
    "colab": {
     "base_uri": "https://localhost:8080/"
    },
    "executionInfo": {
     "elapsed": 22011,
     "status": "ok",
     "timestamp": 1615142195086,
     "user": {
      "displayName": "Tri",
      "photoUrl": "",
      "userId": "18100809214550483764"
     },
     "user_tz": 480
    },
    "id": "lwN0ixmqLNBo",
    "outputId": "e1c64d49-b063-4ebf-cf97-130f45acf0aa"
   },
   "outputs": [
    {
     "name": "stdout",
     "output_type": "stream",
     "text": [
      "  % Total    % Received % Xferd  Average Speed   Time    Time     Time  Current\n",
      "                                 Dload  Upload   Total   Spent    Left  Speed\n",
      "100  979k  100  979k    0     0   807k      0  0:00:01  0:00:01 --:--:--  807k\n"
     ]
    }
   ],
   "source": [
    "# Download a Postgres driver to allow Spark to interact with Postgres\n",
    "!curl -O https://jdbc.postgresql.org/download/postgresql-42.2.16.jar"
   ]
  },
  {
   "cell_type": "code",
   "execution_count": 33,
   "metadata": {
    "colab": {
     "base_uri": "https://localhost:8080/"
    },
    "executionInfo": {
     "elapsed": 22325,
     "status": "ok",
     "timestamp": 1615142195461,
     "user": {
      "displayName": "Tri",
      "photoUrl": "",
      "userId": "18100809214550483764"
     },
     "user_tz": 480
    },
    "id": "7roME6jkLP08",
    "outputId": "7975985a-d743-4b44-9b46-e0188f4db2bc"
   },
   "outputs": [
    {
     "data": {
      "text/html": [
       "\n",
       "            <div>\n",
       "                <p><b>SparkSession - in-memory</b></p>\n",
       "                \n",
       "        <div>\n",
       "            <p><b>SparkContext</b></p>\n",
       "\n",
       "            <p><a href=\"http://192.168.4.26:4040\">Spark UI</a></p>\n",
       "\n",
       "            <dl>\n",
       "              <dt>Version</dt>\n",
       "                <dd><code>v3.0.1</code></dd>\n",
       "              <dt>Master</dt>\n",
       "                <dd><code>local[*]</code></dd>\n",
       "              <dt>AppName</dt>\n",
       "                <dd><code>vine</code></dd>\n",
       "            </dl>\n",
       "        </div>\n",
       "        \n",
       "            </div>\n",
       "        "
      ],
      "text/plain": [
       "<pyspark.sql.session.SparkSession at 0x7fa87e64f4d0>"
      ]
     },
     "execution_count": 33,
     "metadata": {},
     "output_type": "execute_result"
    }
   ],
   "source": [
    "# Locate Spark\n",
    "import findspark\n",
    "findspark.init()\n",
    "\n",
    "# Dependencies\n",
    "from pyspark import SparkFiles\n",
    "from pyspark.sql import SparkSession\n",
    "from pyspark.sql.types import DateType\n",
    "from pyspark.sql.functions import col\n",
    "from config import db_password\n",
    "\n",
    "# Spark session adding the Postgres driver to Spark\n",
    "spark = SparkSession.builder \\\n",
    "                    .appName('amz') \\\n",
    "                    .config('spark.driver.extraClassPath', 'postgresql-42.2.16.jar') \\\n",
    "                    .getOrCreate()\n",
    "spark"
   ]
  },
  {
   "cell_type": "markdown",
   "metadata": {
    "executionInfo": {
     "elapsed": 45496,
     "status": "aborted",
     "timestamp": 1615142219396,
     "user": {
      "displayName": "Tri",
      "photoUrl": "",
      "userId": "18100809214550483764"
     },
     "user_tz": 480
    },
    "id": "wnVJ_PWP6F75"
   },
   "source": [
    "## Extract\n",
    "\n",
    "1. [Download the data](https://s3.amazonaws.com/amazon-reviews-pds/tsv/amazon_reviews_us_Pet_Products_v1_00.tsv.gz)\n",
    "2. Unzip the downloaded file and move the data file to the same directory as this notebook\n",
    "\n",
    "Source: https://s3.amazonaws.com/amazon-reviews-pds/tsv/index.txt"
   ]
  },
  {
   "cell_type": "code",
   "execution_count": 24,
   "metadata": {},
   "outputs": [
    {
     "name": "stdout",
     "output_type": "stream",
     "text": [
      "-RECORD 0-------------------------------------------------------------------------------------------------------------------------------------------------------------------------------------------------------------------------------------------------------------------------\n",
      " marketplace       | US                                                                                                                                                                                                                                                           \n",
      " customer_id       | 28794885                                                                                                                                                                                                                                                     \n",
      " review_id         | REAKC26P07MDN                                                                                                                                                                                                                                                \n",
      " product_id        | B00Q0K9604                                                                                                                                                                                                                                                   \n",
      " product_parent    | 510387886                                                                                                                                                                                                                                                    \n",
      " product_title     | (8-Pack) EZwhelp Belly Band/Wrap                                                                                                                                                                                                                             \n",
      " product_category  | Pet Products                                                                                                                                                                                                                                                 \n",
      " star_rating       | 5                                                                                                                                                                                                                                                            \n",
      " helpful_votes     | 0                                                                                                                                                                                                                                                            \n",
      " total_votes       | 0                                                                                                                                                                                                                                                            \n",
      " vine              | N                                                                                                                                                                                                                                                            \n",
      " verified_purchase | Y                                                                                                                                                                                                                                                            \n",
      " review_headline   | A great purchase for \"dribbly\" dogs                                                                                                                                                                                                                          \n",
      " review_body       | Best belly bands on the market!  These are a great deal for an 8 pack.  Before we had 2 of another brand and we were constantly washing them and the velcro kept getting loose.  These are secure and with 8 in a pack, you can put on a fresh one each day. \n",
      " review_date       | 2015-08-31                                                                                                                                                                                                                                                   \n",
      "-RECORD 1-------------------------------------------------------------------------------------------------------------------------------------------------------------------------------------------------------------------------------------------------------------------------\n",
      " marketplace       | US                                                                                                                                                                                                                                                           \n",
      " customer_id       | 11488901                                                                                                                                                                                                                                                     \n",
      " review_id         | R3NU7OMZ4HQIEG                                                                                                                                                                                                                                               \n",
      " product_id        | B00MBW5O9W                                                                                                                                                                                                                                                   \n",
      " product_parent    | 912374672                                                                                                                                                                                                                                                    \n",
      " product_title     | Warren Eckstein's Hugs & Kisses Vitamin Mineral Supplement Treat for Dogs                                                                                                                                                                                    \n",
      " product_category  | Pet Products                                                                                                                                                                                                                                                 \n",
      " star_rating       | 2                                                                                                                                                                                                                                                            \n",
      " helpful_votes     | 0                                                                                                                                                                                                                                                            \n",
      " total_votes       | 1                                                                                                                                                                                                                                                            \n",
      " vine              | N                                                                                                                                                                                                                                                            \n",
      " verified_purchase | Y                                                                                                                                                                                                                                                            \n",
      " review_headline   | My dogs love Hugs and Kisses                                                                                                                                                                                                                                 \n",
      " review_body       | My dogs love Hugs and Kisses.  However, the last time I bought a $40.00+ bottle from Amazon....something was wrong with them.  They are all stuck together and seemed moist.  Usually they are not.  Had to throw them out.                                  \n",
      " review_date       | 2015-08-31                                                                                                                                                                                                                                                   \n",
      "only showing top 2 rows\n",
      "\n"
     ]
    }
   ],
   "source": [
    "# Read in data\n",
    "df = spark.read.csv('pet_product_reviews.tsv', sep='\\t', header=True, inferSchema=True)\n",
    "df.show(2, vertical=True, truncate=False)"
   ]
  },
  {
   "cell_type": "code",
   "execution_count": 25,
   "metadata": {},
   "outputs": [
    {
     "name": "stdout",
     "output_type": "stream",
     "text": [
      "root\n",
      " |-- marketplace: string (nullable = true)\n",
      " |-- customer_id: integer (nullable = true)\n",
      " |-- review_id: string (nullable = true)\n",
      " |-- product_id: string (nullable = true)\n",
      " |-- product_parent: integer (nullable = true)\n",
      " |-- product_title: string (nullable = true)\n",
      " |-- product_category: string (nullable = true)\n",
      " |-- star_rating: integer (nullable = true)\n",
      " |-- helpful_votes: integer (nullable = true)\n",
      " |-- total_votes: integer (nullable = true)\n",
      " |-- vine: string (nullable = true)\n",
      " |-- verified_purchase: string (nullable = true)\n",
      " |-- review_headline: string (nullable = true)\n",
      " |-- review_body: string (nullable = true)\n",
      " |-- review_date: string (nullable = true)\n",
      "\n"
     ]
    },
    {
     "data": {
      "text/plain": [
       "2643619"
      ]
     },
     "execution_count": 25,
     "metadata": {},
     "output_type": "execute_result"
    }
   ],
   "source": [
    "# Schema and row count\n",
    "df.printSchema()\n",
    "df.count()"
   ]
  },
  {
   "cell_type": "markdown",
   "metadata": {},
   "source": [
    "## Transform"
   ]
  },
  {
   "cell_type": "code",
   "execution_count": 36,
   "metadata": {},
   "outputs": [
    {
     "name": "stdout",
     "output_type": "stream",
     "text": [
      "2643619\n",
      "+--------------+-----------+----------+--------------+-----------+\n",
      "|     review_id|customer_id|product_id|product_parent|review_date|\n",
      "+--------------+-----------+----------+--------------+-----------+\n",
      "|R100065P6TTS3J|   42711834|B000HHM6PS|      64793786| 2014-04-06|\n",
      "|R10007MH6NTVFM|   25105396|B0090Z9FFC|     675354291| 2015-06-24|\n",
      "|R1000CIZTRNP23|   25423435|B00K1B6RCI|     308737701| 2015-03-06|\n",
      "|R1000DL08MOV57|   13165224|B0006L2PCO|     976701490| 2015-04-12|\n",
      "|R1000JOVLD0J41|   34245087|B000TZ7022|     870738517| 2010-11-13|\n",
      "+--------------+-----------+----------+--------------+-----------+\n",
      "only showing top 5 rows\n",
      "\n"
     ]
    }
   ],
   "source": [
    "# Review table\n",
    "review_cols = ['review_id', 'customer_id', 'product_id', 'product_parent', df['review_date'].cast(DateType())]\n",
    "review_df = df.select(review_cols).orderBy('review_id')\n",
    "print(review_df.count())\n",
    "review_df.show(5)"
   ]
  },
  {
   "cell_type": "code",
   "execution_count": 29,
   "metadata": {},
   "outputs": [
    {
     "name": "stdout",
     "output_type": "stream",
     "text": [
      "1415190\n",
      "+-----------+------------+\n",
      "|customer_id|review_count|\n",
      "+-----------+------------+\n",
      "|      10003|           2|\n",
      "|      10164|           1|\n",
      "|      10206|           1|\n",
      "|      10227|           2|\n",
      "|      10228|           1|\n",
      "+-----------+------------+\n",
      "only showing top 5 rows\n",
      "\n"
     ]
    }
   ],
   "source": [
    "# Customer table\n",
    "customer_df = df.groupBy('customer_id').count().orderBy('customer_id')\n",
    "customer_df = customer_df.withColumnRenamed('count', 'review_count')\n",
    "print(customer_df.count())\n",
    "customer_df.show(5)"
   ]
  },
  {
   "cell_type": "code",
   "execution_count": 31,
   "metadata": {},
   "outputs": [
    {
     "name": "stdout",
     "output_type": "stream",
     "text": [
      "239343\n",
      "+----------+--------------------+\n",
      "|product_id|       product_title|\n",
      "+----------+--------------------+\n",
      "|0310824230|Advantage Flea Co...|\n",
      "|039480001X|  The Cat in the Hat|\n",
      "|0615553605|Pet Qwerks Treat ...|\n",
      "|0684836483|250 Things You Ca...|\n",
      "|0761129804|  Pop Bottle Science|\n",
      "+----------+--------------------+\n",
      "only showing top 5 rows\n",
      "\n"
     ]
    }
   ],
   "source": [
    "# Product table\n",
    "product_df = df.select(['product_id', 'product_title']).dropDuplicates().orderBy('product_id')\n",
    "print(product_df.count())\n",
    "product_df.show(5)"
   ]
  },
  {
   "cell_type": "code",
   "execution_count": 38,
   "metadata": {},
   "outputs": [
    {
     "name": "stdout",
     "output_type": "stream",
     "text": [
      "2643619\n",
      "+--------------+-----------+-------------+-----------+----+-----------------+\n",
      "|     review_id|star_rating|helpful_votes|total_votes|vine|verified_purchase|\n",
      "+--------------+-----------+-------------+-----------+----+-----------------+\n",
      "|R100065P6TTS3J|          4|            0|          0|   N|                Y|\n",
      "|R10007MH6NTVFM|          3|            0|          0|   N|                Y|\n",
      "|R1000CIZTRNP23|          4|            3|          3|   N|                Y|\n",
      "|R1000DL08MOV57|          5|            0|          0|   N|                Y|\n",
      "|R1000JOVLD0J41|          2|            0|          0|   N|                N|\n",
      "+--------------+-----------+-------------+-----------+----+-----------------+\n",
      "only showing top 5 rows\n",
      "\n"
     ]
    }
   ],
   "source": [
    "# Vine table\n",
    "vine_cols = ['review_id', 'star_rating', 'helpful_votes', 'total_votes', 'vine', 'verified_purchase']\n",
    "vine_df = df.select(vine_cols).orderBy('review_id')\n",
    "print(vine_df.count())\n",
    "vine_df.show(5)"
   ]
  },
  {
   "cell_type": "markdown",
   "metadata": {},
   "source": [
    "### Load"
   ]
  },
  {
   "cell_type": "code",
   "execution_count": null,
   "metadata": {},
   "outputs": [],
   "source": []
  }
 ],
 "metadata": {
  "colab": {
   "authorship_tag": "ABX9TyOGYybMYiiz1JzN6Wz9QV89",
   "collapsed_sections": [],
   "name": "etl.ipynb",
   "provenance": []
  },
  "kernelspec": {
   "display_name": "Python 3",
   "language": "python",
   "name": "python3"
  },
  "language_info": {
   "codemirror_mode": {
    "name": "ipython",
    "version": 3
   },
   "file_extension": ".py",
   "mimetype": "text/x-python",
   "name": "python",
   "nbconvert_exporter": "python",
   "pygments_lexer": "ipython3",
   "version": "3.7.9"
  }
 },
 "nbformat": 4,
 "nbformat_minor": 4
}
