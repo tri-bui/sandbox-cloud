{
 "cells": [
  {
   "cell_type": "markdown",
   "metadata": {},
   "source": [
    "# Vine Review Analysis"
   ]
  },
  {
   "cell_type": "markdown",
   "metadata": {
    "id": "GniGJcylRnFl"
   },
   "source": [
    "### Dependencies"
   ]
  },
  {
   "cell_type": "code",
   "execution_count": 20,
   "metadata": {
    "colab": {
     "base_uri": "https://localhost:8080/"
    },
    "executionInfo": {
     "elapsed": 22011,
     "status": "ok",
     "timestamp": 1615142195086,
     "user": {
      "displayName": "Tri",
      "photoUrl": "",
      "userId": "18100809214550483764"
     },
     "user_tz": 480
    },
    "id": "lwN0ixmqLNBo",
    "outputId": "e1c64d49-b063-4ebf-cf97-130f45acf0aa"
   },
   "outputs": [
    {
     "name": "stdout",
     "output_type": "stream",
     "text": [
      "  % Total    % Received % Xferd  Average Speed   Time    Time     Time  Current\n",
      "                                 Dload  Upload   Total   Spent    Left  Speed\n",
      "100  979k  100  979k    0     0  1185k      0 --:--:-- --:--:-- --:--:-- 1184k\n"
     ]
    }
   ],
   "source": [
    "# Download a Postgres driver to allow Spark to interact with Postgres\n",
    "!curl -O https://jdbc.postgresql.org/download/postgresql-42.2.16.jar"
   ]
  },
  {
   "cell_type": "code",
   "execution_count": 21,
   "metadata": {
    "colab": {
     "base_uri": "https://localhost:8080/"
    },
    "executionInfo": {
     "elapsed": 22325,
     "status": "ok",
     "timestamp": 1615142195461,
     "user": {
      "displayName": "Tri",
      "photoUrl": "",
      "userId": "18100809214550483764"
     },
     "user_tz": 480
    },
    "id": "7roME6jkLP08",
    "outputId": "7975985a-d743-4b44-9b46-e0188f4db2bc"
   },
   "outputs": [
    {
     "data": {
      "text/html": [
       "\n",
       "            <div>\n",
       "                <p><b>SparkSession - in-memory</b></p>\n",
       "                \n",
       "        <div>\n",
       "            <p><b>SparkContext</b></p>\n",
       "\n",
       "            <p><a href=\"http://192.168.4.26:4040\">Spark UI</a></p>\n",
       "\n",
       "            <dl>\n",
       "              <dt>Version</dt>\n",
       "                <dd><code>v3.0.1</code></dd>\n",
       "              <dt>Master</dt>\n",
       "                <dd><code>local[*]</code></dd>\n",
       "              <dt>AppName</dt>\n",
       "                <dd><code>etl</code></dd>\n",
       "            </dl>\n",
       "        </div>\n",
       "        \n",
       "            </div>\n",
       "        "
      ],
      "text/plain": [
       "<pyspark.sql.session.SparkSession at 0x7fd1be891e90>"
      ]
     },
     "execution_count": 21,
     "metadata": {},
     "output_type": "execute_result"
    }
   ],
   "source": [
    "# Locate Spark\n",
    "import findspark\n",
    "findspark.init()\n",
    "\n",
    "# Dependencies\n",
    "from pyspark import SparkFiles\n",
    "from pyspark.sql import SparkSession\n",
    "from config import db_password\n",
    "\n",
    "# Spark session adding the Postgres driver to Spark\n",
    "spark = SparkSession.builder \\\n",
    "                    .appName('vine') \\\n",
    "                    .config('spark.driver.extraClassPath', 'postgresql-42.2.16.jar') \\\n",
    "                    .getOrCreate()\n",
    "spark"
   ]
  },
  {
   "cell_type": "code",
   "execution_count": null,
   "metadata": {
    "executionInfo": {
     "elapsed": 45496,
     "status": "aborted",
     "timestamp": 1615142219396,
     "user": {
      "displayName": "Tri",
      "photoUrl": "",
      "userId": "18100809214550483764"
     },
     "user_tz": 480
    },
    "id": "wnVJ_PWP6F75"
   },
   "outputs": [],
   "source": []
  }
 ],
 "metadata": {
  "colab": {
   "authorship_tag": "ABX9TyOGYybMYiiz1JzN6Wz9QV89",
   "collapsed_sections": [],
   "name": "etl.ipynb",
   "provenance": []
  },
  "kernelspec": {
   "display_name": "Python 3",
   "language": "python",
   "name": "python3"
  },
  "language_info": {
   "codemirror_mode": {
    "name": "ipython",
    "version": 3
   },
   "file_extension": ".py",
   "mimetype": "text/x-python",
   "name": "python",
   "nbconvert_exporter": "python",
   "pygments_lexer": "ipython3",
   "version": "3.7.9"
  }
 },
 "nbformat": 4,
 "nbformat_minor": 4
}
