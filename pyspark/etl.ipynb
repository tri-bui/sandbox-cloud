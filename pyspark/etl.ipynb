{
 "cells": [
  {
   "cell_type": "markdown",
   "metadata": {
    "id": "GniGJcylRnFl"
   },
   "source": [
    "# Setup"
   ]
  },
  {
   "cell_type": "code",
   "execution_count": 1,
   "metadata": {
    "colab": {
     "base_uri": "https://localhost:8080/"
    },
    "executionInfo": {
     "elapsed": 22011,
     "status": "ok",
     "timestamp": 1615142195086,
     "user": {
      "displayName": "Tri",
      "photoUrl": "",
      "userId": "18100809214550483764"
     },
     "user_tz": 480
    },
    "id": "lwN0ixmqLNBo",
    "outputId": "e1c64d49-b063-4ebf-cf97-130f45acf0aa"
   },
   "outputs": [
    {
     "name": "stdout",
     "output_type": "stream",
     "text": [
      "Hit:1 http://security.ubuntu.com/ubuntu bionic-security InRelease\n",
      "Ign:2 https://developer.download.nvidia.com/compute/cuda/repos/ubuntu1804/x86_64  InRelease\n",
      "Hit:3 https://cloud.r-project.org/bin/linux/ubuntu bionic-cran40/ InRelease    \n",
      "Hit:4 http://ppa.launchpad.net/c2d4u.team/c2d4u4.0+/ubuntu bionic InRelease    \n",
      "Hit:5 http://archive.ubuntu.com/ubuntu bionic InRelease                        \n",
      "Ign:6 https://developer.download.nvidia.com/compute/machine-learning/repos/ubuntu1804/x86_64  InRelease\n",
      "Hit:7 https://developer.download.nvidia.com/compute/cuda/repos/ubuntu1804/x86_64  Release\n",
      "Hit:8 https://developer.download.nvidia.com/compute/machine-learning/repos/ubuntu1804/x86_64  Release\n",
      "Hit:9 http://archive.ubuntu.com/ubuntu bionic-updates InRelease\n",
      "Hit:10 http://ppa.launchpad.net/cran/libgit2/ubuntu bionic InRelease\n",
      "Hit:11 http://archive.ubuntu.com/ubuntu bionic-backports InRelease\n",
      "Hit:12 http://ppa.launchpad.net/deadsnakes/ppa/ubuntu bionic InRelease\n",
      "Hit:13 http://ppa.launchpad.net/graphics-drivers/ppa/ubuntu bionic InRelease\n",
      "Reading package lists... Done\n"
     ]
    }
   ],
   "source": [
    "\"\"\" PySpark setup \"\"\"\n",
    "\n",
    "# Find the latest version of spark 3.0 from http://www-us.apache.org/dist/spark/ and enter as the spark version environment variable\n",
    "import os\n",
    "spark_version = 'spark-3.0.2'\n",
    "os.environ['SPARK_VERSION'] = spark_version\n",
    "\n",
    "# Install Java and Spark\n",
    "!apt-get update\n",
    "!apt-get install openjdk-11-jdk-headless -qq > /dev/null\n",
    "!wget -q http://www-us.apache.org/dist/spark/$SPARK_VERSION/$SPARK_VERSION-bin-hadoop2.7.tgz\n",
    "!tar xf $SPARK_VERSION-bin-hadoop2.7.tgz\n",
    "!pip install -q findspark\n",
    "\n",
    "# Set environment variables\n",
    "os.environ[\"JAVA_HOME\"] = '/usr/lib/jvm/java-11-openjdk-amd64'\n",
    "os.environ[\"SPARK_HOME\"] = f'/content/{spark_version}-bin-hadoop2.7'\n",
    "\n",
    "# Locate Spark\n",
    "import findspark\n",
    "findspark.init()"
   ]
  },
  {
   "cell_type": "code",
   "execution_count": 2,
   "metadata": {
    "colab": {
     "base_uri": "https://localhost:8080/"
    },
    "executionInfo": {
     "elapsed": 22325,
     "status": "ok",
     "timestamp": 1615142195461,
     "user": {
      "displayName": "Tri",
      "photoUrl": "",
      "userId": "18100809214550483764"
     },
     "user_tz": 480
    },
    "id": "7roME6jkLP08",
    "outputId": "7975985a-d743-4b44-9b46-e0188f4db2bc"
   },
   "outputs": [
    {
     "name": "stdout",
     "output_type": "stream",
     "text": [
      "--2021-03-07 18:36:34--  https://jdbc.postgresql.org/download/postgresql-42.2.16.jar\n",
      "Resolving jdbc.postgresql.org (jdbc.postgresql.org)... 72.32.157.228, 2001:4800:3e1:1::228\n",
      "Connecting to jdbc.postgresql.org (jdbc.postgresql.org)|72.32.157.228|:443... connected.\n",
      "HTTP request sent, awaiting response... 200 OK\n",
      "Length: 1002883 (979K) [application/java-archive]\n",
      "Saving to: ‘postgresql-42.2.16.jar.5’\n",
      "\n",
      "postgresql-42.2.16. 100%[===================>] 979.38K  5.97MB/s    in 0.2s    \n",
      "\n",
      "2021-03-07 18:36:35 (5.97 MB/s) - ‘postgresql-42.2.16.jar.5’ saved [1002883/1002883]\n",
      "\n"
     ]
    }
   ],
   "source": [
    "\"\"\" Postgres setup \"\"\"\n",
    "\n",
    "# Download a Postgres driver to allow Spark to interact with Postgres\n",
    "!wget https://jdbc.postgresql.org/download/postgresql-42.2.16.jar\n",
    "\n",
    "# Path to driver\n",
    "driver_path = '/content/postgresql-42.2.16.jar'\n",
    "\n",
    "# # Set spark environment variable for driver\n",
    "# os.environ[\"SPARK_CLASSPATH\"] = driver_path"
   ]
  },
  {
   "cell_type": "code",
   "execution_count": 3,
   "metadata": {
    "colab": {
     "base_uri": "https://localhost:8080/",
     "height": 216
    },
    "executionInfo": {
     "elapsed": 30269,
     "status": "ok",
     "timestamp": 1615142203441,
     "user": {
      "displayName": "Tri",
      "photoUrl": "",
      "userId": "18100809214550483764"
     },
     "user_tz": 480
    },
    "id": "hUjKih8ZMdn-",
    "outputId": "d3cd480d-7d94-4e9c-b715-c72b0789cffb"
   },
   "outputs": [
    {
     "data": {
      "text/html": [
       "\n",
       "            <div>\n",
       "                <p><b>SparkSession - in-memory</b></p>\n",
       "                \n",
       "        <div>\n",
       "            <p><b>SparkContext</b></p>\n",
       "\n",
       "            <p><a href=\"http://b974126c429e:4040\">Spark UI</a></p>\n",
       "\n",
       "            <dl>\n",
       "              <dt>Version</dt>\n",
       "                <dd><code>v3.0.2</code></dd>\n",
       "              <dt>Master</dt>\n",
       "                <dd><code>local[*]</code></dd>\n",
       "              <dt>AppName</dt>\n",
       "                <dd><code>etl</code></dd>\n",
       "            </dl>\n",
       "        </div>\n",
       "        \n",
       "            </div>\n",
       "        "
      ],
      "text/plain": [
       "<pyspark.sql.session.SparkSession at 0x7fd511f6c7d0>"
      ]
     },
     "execution_count": 3,
     "metadata": {
      "tags": []
     },
     "output_type": "execute_result"
    }
   ],
   "source": [
    "\"\"\" Spark session \"\"\"\n",
    "\n",
    "# Dependencies\n",
    "from pyspark import SparkFiles\n",
    "from pyspark.sql import SparkSession\n",
    "# from config import db_password\n",
    "\n",
    "# Spark session adding the Postgres driver to Spark\n",
    "spark = SparkSession.builder.appName('etl').config('spark.driver.extraClassPath', driver_path).getOrCreate()\n",
    "spark"
   ]
  },
  {
   "cell_type": "markdown",
   "metadata": {
    "id": "IpONIjmRQ2BI"
   },
   "source": [
    "# Extract"
   ]
  },
  {
   "cell_type": "code",
   "execution_count": 4,
   "metadata": {
    "colab": {
     "base_uri": "https://localhost:8080/"
    },
    "executionInfo": {
     "elapsed": 38751,
     "status": "ok",
     "timestamp": 1615142211961,
     "user": {
      "displayName": "Tri",
      "photoUrl": "",
      "userId": "18100809214550483764"
     },
     "user_tz": 480
    },
    "id": "W1Bax4T5NC1N",
    "outputId": "7fb72abc-6893-47c9-d0dc-2e4c14def298"
   },
   "outputs": [
    {
     "name": "stdout",
     "output_type": "stream",
     "text": [
      "+---+----------+---------+-----------+-------------------+--------------+---------+\n",
      "| id|first_name|last_name|active_user|     street_address|         state| username|\n",
      "+---+----------+---------+-----------+-------------------+--------------+---------+\n",
      "|  1|    Cletus|  Lithcow|      false|78309 Riverside Way|      Virginia|ibearham0|\n",
      "|  2|       Caz|   Felgat|      false|83 Hazelcrest Place|       Alabama| wwaller1|\n",
      "|  3|     Kerri|  Crowson|      false|     112 Eliot Pass|North Carolina|ichesnut2|\n",
      "|  4|   Freddie|    Caghy|      false|    15 Merchant Way|      New York|  tsnarr3|\n",
      "|  5|   Sadella|    Deuss|      false|   079 Acker Avenue|     Tennessee|fwherrit4|\n",
      "+---+----------+---------+-----------+-------------------+--------------+---------+\n",
      "only showing top 5 rows\n",
      "\n"
     ]
    }
   ],
   "source": [
    "# Add user data file to Spark\n",
    "bucket = 'https://dv-m16.s3-us-west-1.amazonaws.com/' # s3 bucket url\n",
    "user_data = 'user_data.csv' # file name in bucket\n",
    "spark.sparkContext.addFile(bucket + user_data) # add file to spark\n",
    "\n",
    "# Read in user data\n",
    "user_df = spark.read.csv(SparkFiles.get('user_data.csv'), sep=',', header=True, inferSchema=True)\n",
    "user_df.show(5)"
   ]
  },
  {
   "cell_type": "code",
   "execution_count": 5,
   "metadata": {
    "colab": {
     "base_uri": "https://localhost:8080/"
    },
    "executionInfo": {
     "elapsed": 39742,
     "status": "ok",
     "timestamp": 1615142212974,
     "user": {
      "displayName": "Tri",
      "photoUrl": "",
      "userId": "18100809214550483764"
     },
     "user_tz": 480
    },
    "id": "16JjmHqCQ8we",
    "outputId": "853d8638-7fc2-49f2-d569-0b30f020d9b7"
   },
   "outputs": [
    {
     "name": "stdout",
     "output_type": "stream",
     "text": [
      "+----------+---------+--------------------+\n",
      "|billing_id| username|        cc_encrypted|\n",
      "+----------+---------+--------------------+\n",
      "|         1|ibearham0|a799fcafe47d7fb19...|\n",
      "|         2| wwaller1|a799fcafe47d7fb19...|\n",
      "|         3|ichesnut2|a799fcafe47d7fb19...|\n",
      "|         4|  tsnarr3|a799fcafe47d7fb19...|\n",
      "|         5|fwherrit4|a799fcafe47d7fb19...|\n",
      "+----------+---------+--------------------+\n",
      "only showing top 5 rows\n",
      "\n"
     ]
    }
   ],
   "source": [
    "# Add payment data file to Spark\n",
    "user_payment = 'user_payment.csv'\n",
    "spark.sparkContext.addFile(bucket + user_payment)\n",
    "\n",
    "# Read in payment data\n",
    "payment_df = spark.read.csv(SparkFiles.get('user_payment.csv'), sep=',', header=True, inferSchema=True)\n",
    "payment_df.show(5)"
   ]
  },
  {
   "cell_type": "markdown",
   "metadata": {
    "id": "YsDxEwUpRkqg"
   },
   "source": [
    "# Transform"
   ]
  },
  {
   "cell_type": "code",
   "execution_count": 6,
   "metadata": {
    "colab": {
     "base_uri": "https://localhost:8080/"
    },
    "executionInfo": {
     "elapsed": 41806,
     "status": "ok",
     "timestamp": 1615142215093,
     "user": {
      "displayName": "Tri",
      "photoUrl": "",
      "userId": "18100809214550483764"
     },
     "user_tz": 480
    },
    "id": "z4eBM0O0Rjhg",
    "outputId": "253877f5-b3b6-47a3-bf1a-6f4ad7036c96"
   },
   "outputs": [
    {
     "name": "stdout",
     "output_type": "stream",
     "text": [
      "1000\n",
      "+---------+---+----------+---------+-----------+-------------------+--------------+----------+--------------------+\n",
      "| username| id|first_name|last_name|active_user|     street_address|         state|billing_id|        cc_encrypted|\n",
      "+---------+---+----------+---------+-----------+-------------------+--------------+----------+--------------------+\n",
      "|ibearham0|  1|    Cletus|  Lithcow|      false|78309 Riverside Way|      Virginia|         1|a799fcafe47d7fb19...|\n",
      "| wwaller1|  2|       Caz|   Felgat|      false|83 Hazelcrest Place|       Alabama|         2|a799fcafe47d7fb19...|\n",
      "|ichesnut2|  3|     Kerri|  Crowson|      false|     112 Eliot Pass|North Carolina|         3|a799fcafe47d7fb19...|\n",
      "|  tsnarr3|  4|   Freddie|    Caghy|      false|    15 Merchant Way|      New York|         4|a799fcafe47d7fb19...|\n",
      "|fwherrit4|  5|   Sadella|    Deuss|      false|   079 Acker Avenue|     Tennessee|         5|a799fcafe47d7fb19...|\n",
      "+---------+---+----------+---------+-----------+-------------------+--------------+----------+--------------------+\n",
      "only showing top 5 rows\n",
      "\n"
     ]
    }
   ],
   "source": [
    "# Join dataframes\n",
    "df = user_df.join(payment_df, on='username', how='inner')\n",
    "print(df.count()) # num rows\n",
    "df.show(5)"
   ]
  },
  {
   "cell_type": "code",
   "execution_count": 7,
   "metadata": {
    "colab": {
     "base_uri": "https://localhost:8080/"
    },
    "executionInfo": {
     "elapsed": 42412,
     "status": "ok",
     "timestamp": 1615142215722,
     "user": {
      "displayName": "Tri",
      "photoUrl": "",
      "userId": "18100809214550483764"
     },
     "user_tz": 480
    },
    "id": "Mx9zs_8yPqzS",
    "outputId": "6f93487a-0938-46c5-c444-f880dfce6e56"
   },
   "outputs": [
    {
     "data": {
      "text/plain": [
       "939"
      ]
     },
     "execution_count": 7,
     "metadata": {
      "tags": []
     },
     "output_type": "execute_result"
    }
   ],
   "source": [
    "# Drop null values\n",
    "df = df.dropna()\n",
    "df.count()"
   ]
  },
  {
   "cell_type": "code",
   "execution_count": 8,
   "metadata": {
    "colab": {
     "base_uri": "https://localhost:8080/"
    },
    "executionInfo": {
     "elapsed": 44275,
     "status": "ok",
     "timestamp": 1615142217607,
     "user": {
      "displayName": "Tri",
      "photoUrl": "",
      "userId": "18100809214550483764"
     },
     "user_tz": 480
    },
    "id": "KZJ4_GuvSaNW",
    "outputId": "ef57d9e2-0a3f-4e2b-a92c-face0f45a40e"
   },
   "outputs": [
    {
     "name": "stdout",
     "output_type": "stream",
     "text": [
      "475\n",
      "+------------+---+----------+---------+-----------+--------------------+--------------------+----------+--------------------+\n",
      "|    username| id|first_name|last_name|active_user|      street_address|               state|billing_id|        cc_encrypted|\n",
      "+------------+---+----------+---------+-----------+--------------------+--------------------+----------+--------------------+\n",
      "|  fstappard5|  6|    Fraser|  Korneev|       true|  76084 Novick Court|           Minnesota|         6|a799fcafe47d7fb19...|\n",
      "|  lhambling6|  7|    Demott|   Rapson|       true|    86320 Dahle Park|District of Columbia|         7|a799fcafe47d7fb19...|\n",
      "|   wheinerte| 15|   Sadella|    Jaram|       true|7528 Waxwing Terrace|         Connecticut|        15|a799fcafe47d7fb19...|\n",
      "|droughsedgeg| 17|    Hewitt|  Trammel|       true|    2455 Corry Alley|      North Carolina|        17|a799fcafe47d7fb19...|\n",
      "|   ydudeniei| 19|       Ted|  Knowlys|       true|      31 South Drive|                Ohio|        19|a799fcafe47d7fb19...|\n",
      "+------------+---+----------+---------+-----------+--------------------+--------------------+----------+--------------------+\n",
      "only showing top 5 rows\n",
      "\n"
     ]
    }
   ],
   "source": [
    "# Filter for active users\n",
    "df = df.filter('active_user == true')\n",
    "print(df.count())\n",
    "df.show(5)"
   ]
  },
  {
   "cell_type": "code",
   "execution_count": 9,
   "metadata": {
    "colab": {
     "base_uri": "https://localhost:8080/"
    },
    "executionInfo": {
     "elapsed": 44501,
     "status": "ok",
     "timestamp": 1615142217848,
     "user": {
      "displayName": "Tri",
      "photoUrl": "",
      "userId": "18100809214550483764"
     },
     "user_tz": 480
    },
    "id": "0X84ijxCd2cr",
    "outputId": "98a4bfc1-8bad-428a-af3d-4af5c34daea0"
   },
   "outputs": [
    {
     "name": "stdout",
     "output_type": "stream",
     "text": [
      "+---+----------+---------+------------+\n",
      "| id|first_name|last_name|    username|\n",
      "+---+----------+---------+------------+\n",
      "|  6|    Fraser|  Korneev|  fstappard5|\n",
      "|  7|    Demott|   Rapson|  lhambling6|\n",
      "| 15|   Sadella|    Jaram|   wheinerte|\n",
      "| 17|    Hewitt|  Trammel|droughsedgeg|\n",
      "| 19|       Ted|  Knowlys|   ydudeniei|\n",
      "+---+----------+---------+------------+\n",
      "only showing top 5 rows\n",
      "\n"
     ]
    }
   ],
   "source": [
    "# Create user table\n",
    "user_cols = ['id', 'first_name', 'last_name', 'username']\n",
    "active_user_df = df.select(user_cols)\n",
    "active_user_df.show(5)"
   ]
  },
  {
   "cell_type": "code",
   "execution_count": 10,
   "metadata": {
    "colab": {
     "base_uri": "https://localhost:8080/"
    },
    "executionInfo": {
     "elapsed": 45357,
     "status": "ok",
     "timestamp": 1615142218799,
     "user": {
      "displayName": "Tri",
      "photoUrl": "",
      "userId": "18100809214550483764"
     },
     "user_tz": 480
    },
    "id": "IoUETg4iekwq",
    "outputId": "39bb2bf6-b8ec-46ba-915e-4dd14c3107f0"
   },
   "outputs": [
    {
     "name": "stdout",
     "output_type": "stream",
     "text": [
      "+----------+--------------------+--------------------+------------+\n",
      "|billing_id|      street_address|               state|    username|\n",
      "+----------+--------------------+--------------------+------------+\n",
      "|         6|  76084 Novick Court|           Minnesota|  fstappard5|\n",
      "|         7|    86320 Dahle Park|District of Columbia|  lhambling6|\n",
      "|        15|7528 Waxwing Terrace|         Connecticut|   wheinerte|\n",
      "|        17|    2455 Corry Alley|      North Carolina|droughsedgeg|\n",
      "|        19|      31 South Drive|                Ohio|   ydudeniei|\n",
      "+----------+--------------------+--------------------+------------+\n",
      "only showing top 5 rows\n",
      "\n"
     ]
    }
   ],
   "source": [
    "# Create billing table\n",
    "billing_cols = ['billing_id', 'street_address', 'state', 'username']\n",
    "billing_info_df = df.select(billing_cols)\n",
    "billing_info_df.show(5)"
   ]
  },
  {
   "cell_type": "code",
   "execution_count": 11,
   "metadata": {
    "colab": {
     "base_uri": "https://localhost:8080/"
    },
    "executionInfo": {
     "elapsed": 45534,
     "status": "ok",
     "timestamp": 1615142218990,
     "user": {
      "displayName": "Tri",
      "photoUrl": "",
      "userId": "18100809214550483764"
     },
     "user_tz": 480
    },
    "id": "RXQEXzHheyLc",
    "outputId": "e6f3cb10-7ad5-4a29-b6eb-0a893439bf82"
   },
   "outputs": [
    {
     "name": "stdout",
     "output_type": "stream",
     "text": [
      "+----------+--------------------+\n",
      "|billing_id|        cc_encrypted|\n",
      "+----------+--------------------+\n",
      "|         6|a799fcafe47d7fb19...|\n",
      "|         7|a799fcafe47d7fb19...|\n",
      "|        15|a799fcafe47d7fb19...|\n",
      "|        17|a799fcafe47d7fb19...|\n",
      "|        19|a799fcafe47d7fb19...|\n",
      "+----------+--------------------+\n",
      "only showing top 5 rows\n",
      "\n"
     ]
    }
   ],
   "source": [
    "# Create payment table\n",
    "payment_cols = ['billing_id', 'cc_encrypted']\n",
    "payment_info_df = df.select(payment_cols)\n",
    "payment_info_df.show(5)"
   ]
  },
  {
   "cell_type": "markdown",
   "metadata": {
    "id": "Rl34K7FBfFE-"
   },
   "source": [
    "# Load"
   ]
  },
  {
   "cell_type": "code",
   "execution_count": 13,
   "metadata": {
    "executionInfo": {
     "elapsed": 768,
     "status": "ok",
     "timestamp": 1615142229827,
     "user": {
      "displayName": "Tri",
      "photoUrl": "",
      "userId": "18100809214550483764"
     },
     "user_tz": 480
    },
    "id": "yhvvcj1te86D"
   },
   "outputs": [],
   "source": [
    "\"\"\" RDS connection \"\"\"\n",
    "\n",
    "# Connection to database on RDS\n",
    "connection_string = \"dv-m16.cqzw4eyr0cqo.us-west-1.rds.amazonaws.com\"\n",
    "db_name = \"company\"\n",
    "jdbc_url = f\"jdbc:postgresql://{connection_string}:5432/{db_name}\"\n",
    "\n",
    "# Configure RDS settings\n",
    "mode = \"append\" # action for the db table\n",
    "properties = {\n",
    "    \"user\": \"postgres\",\n",
    "    \"password\": db_password,\n",
    "    \"driver\": \"org.postgresql.Driver\"\n",
    "}"
   ]
  },
  {
   "cell_type": "code",
   "execution_count": 14,
   "metadata": {
    "colab": {
     "base_uri": "https://localhost:8080/"
    },
    "executionInfo": {
     "elapsed": 13303,
     "status": "ok",
     "timestamp": 1615142243468,
     "user": {
      "displayName": "Tri",
      "photoUrl": "",
      "userId": "18100809214550483764"
     },
     "user_tz": 480
    },
    "id": "br0CFGOUgo2E",
    "outputId": "0e4762e6-0eaa-4aa0-b521-f2d8d475e01b"
   },
   "outputs": [
    {
     "name": "stdout",
     "output_type": "stream",
     "text": [
      "+---+----------+---------+------------+\n",
      "| id|first_name|last_name|    username|\n",
      "+---+----------+---------+------------+\n",
      "|  6|    Fraser|  Korneev|  fstappard5|\n",
      "|  7|    Demott|   Rapson|  lhambling6|\n",
      "| 15|   Sadella|    Jaram|   wheinerte|\n",
      "| 17|    Hewitt|  Trammel|droughsedgeg|\n",
      "| 19|       Ted|  Knowlys|   ydudeniei|\n",
      "+---+----------+---------+------------+\n",
      "only showing top 5 rows\n",
      "\n"
     ]
    }
   ],
   "source": [
    "# Write data to RDS database\n",
    "active_user_df.write.jdbc(url=jdbc_url, table='active_user', mode=mode, properties=properties)\n",
    "billing_info_df.write.jdbc(url=jdbc_url, table='billing_info', mode=mode, properties=properties)\n",
    "payment_info_df.write.jdbc(url=jdbc_url, table='payment_info', mode=mode, properties=properties)\n",
    "\n",
    "# Check if the data was loaded into the db\n",
    "spark.read.format('jdbc') \\\n",
    "          .option(\"url\", jdbc_url) \\\n",
    "          .option(\"dbtable\", 'active_user') \\\n",
    "          .option(\"user\", properties['user']) \\\n",
    "          .option(\"password\", properties['password']) \\\n",
    "          .option(\"driver\", properties['driver']) \\\n",
    "          .load().show(5)"
   ]
  },
  {
   "cell_type": "code",
   "execution_count": null,
   "metadata": {
    "executionInfo": {
     "elapsed": 45496,
     "status": "aborted",
     "timestamp": 1615142219396,
     "user": {
      "displayName": "Tri",
      "photoUrl": "",
      "userId": "18100809214550483764"
     },
     "user_tz": 480
    },
    "id": "wnVJ_PWP6F75"
   },
   "outputs": [],
   "source": []
  }
 ],
 "metadata": {
  "colab": {
   "authorship_tag": "ABX9TyOGYybMYiiz1JzN6Wz9QV89",
   "collapsed_sections": [],
   "name": "etl.ipynb",
   "provenance": []
  },
  "kernelspec": {
   "display_name": "Python 3",
   "language": "python",
   "name": "python3"
  },
  "language_info": {
   "codemirror_mode": {
    "name": "ipython",
    "version": 3
   },
   "file_extension": ".py",
   "mimetype": "text/x-python",
   "name": "python",
   "nbconvert_exporter": "python",
   "pygments_lexer": "ipython3",
   "version": "3.7.9"
  }
 },
 "nbformat": 4,
 "nbformat_minor": 4
}
