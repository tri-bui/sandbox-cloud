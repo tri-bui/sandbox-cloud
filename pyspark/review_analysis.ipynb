{
 "cells": [
  {
   "cell_type": "markdown",
   "metadata": {},
   "source": [
    "# Amazon Review Analysis\n",
    "\n",
    "This is an analysis of the Amazon pet product reviews data. The goal is to determine whether or not there was any bias for reviews that were written as part of the Vine program. We will determine if having paid Vine reviews makes a difference in the percentage of 5-star reviews."
   ]
  },
  {
   "cell_type": "markdown",
   "metadata": {
    "id": "GniGJcylRnFl"
   },
   "source": [
    "### Dependencies"
   ]
  },
  {
   "cell_type": "code",
   "execution_count": 2,
   "metadata": {
    "colab": {
     "base_uri": "https://localhost:8080/"
    },
    "executionInfo": {
     "elapsed": 22325,
     "status": "ok",
     "timestamp": 1615142195461,
     "user": {
      "displayName": "Tri",
      "photoUrl": "",
      "userId": "18100809214550483764"
     },
     "user_tz": 480
    },
    "id": "7roME6jkLP08",
    "outputId": "7975985a-d743-4b44-9b46-e0188f4db2bc"
   },
   "outputs": [
    {
     "data": {
      "text/html": [
       "\n",
       "            <div>\n",
       "                <p><b>SparkSession - in-memory</b></p>\n",
       "                \n",
       "        <div>\n",
       "            <p><b>SparkContext</b></p>\n",
       "\n",
       "            <p><a href=\"http://192.168.4.26:4040\">Spark UI</a></p>\n",
       "\n",
       "            <dl>\n",
       "              <dt>Version</dt>\n",
       "                <dd><code>v3.0.1</code></dd>\n",
       "              <dt>Master</dt>\n",
       "                <dd><code>local[*]</code></dd>\n",
       "              <dt>AppName</dt>\n",
       "                <dd><code>amz</code></dd>\n",
       "            </dl>\n",
       "        </div>\n",
       "        \n",
       "            </div>\n",
       "        "
      ],
      "text/plain": [
       "<pyspark.sql.session.SparkSession at 0x7fba1f665850>"
      ]
     },
     "execution_count": 2,
     "metadata": {},
     "output_type": "execute_result"
    }
   ],
   "source": [
    "# Locate Spark\n",
    "import findspark\n",
    "findspark.init()\n",
    "\n",
    "# Dependencies\n",
    "from pyspark import SparkFiles\n",
    "from pyspark.sql import SparkSession\n",
    "from pyspark.sql.types import DateType\n",
    "from pyspark.sql.functions import col\n",
    "\n",
    "# Spark session adding the Postgres driver to Spark\n",
    "spark = SparkSession.builder.appName('amz').getOrCreate()\n",
    "spark"
   ]
  },
  {
   "cell_type": "markdown",
   "metadata": {
    "executionInfo": {
     "elapsed": 45496,
     "status": "aborted",
     "timestamp": 1615142219396,
     "user": {
      "displayName": "Tri",
      "photoUrl": "",
      "userId": "18100809214550483764"
     },
     "user_tz": 480
    },
    "id": "wnVJ_PWP6F75"
   },
   "source": [
    "### Data"
   ]
  },
  {
   "cell_type": "code",
   "execution_count": 3,
   "metadata": {},
   "outputs": [
    {
     "name": "stdout",
     "output_type": "stream",
     "text": [
      "-RECORD 0-------------------------------------------------------------------------------------------------------------------------------------------------------------------------------------------------------------------------------------------------------------------------\n",
      " marketplace       | US                                                                                                                                                                                                                                                           \n",
      " customer_id       | 28794885                                                                                                                                                                                                                                                     \n",
      " review_id         | REAKC26P07MDN                                                                                                                                                                                                                                                \n",
      " product_id        | B00Q0K9604                                                                                                                                                                                                                                                   \n",
      " product_parent    | 510387886                                                                                                                                                                                                                                                    \n",
      " product_title     | (8-Pack) EZwhelp Belly Band/Wrap                                                                                                                                                                                                                             \n",
      " product_category  | Pet Products                                                                                                                                                                                                                                                 \n",
      " star_rating       | 5                                                                                                                                                                                                                                                            \n",
      " helpful_votes     | 0                                                                                                                                                                                                                                                            \n",
      " total_votes       | 0                                                                                                                                                                                                                                                            \n",
      " vine              | N                                                                                                                                                                                                                                                            \n",
      " verified_purchase | Y                                                                                                                                                                                                                                                            \n",
      " review_headline   | A great purchase for \"dribbly\" dogs                                                                                                                                                                                                                          \n",
      " review_body       | Best belly bands on the market!  These are a great deal for an 8 pack.  Before we had 2 of another brand and we were constantly washing them and the velcro kept getting loose.  These are secure and with 8 in a pack, you can put on a fresh one each day. \n",
      " review_date       | 2015-08-31                                                                                                                                                                                                                                                   \n",
      "-RECORD 1-------------------------------------------------------------------------------------------------------------------------------------------------------------------------------------------------------------------------------------------------------------------------\n",
      " marketplace       | US                                                                                                                                                                                                                                                           \n",
      " customer_id       | 11488901                                                                                                                                                                                                                                                     \n",
      " review_id         | R3NU7OMZ4HQIEG                                                                                                                                                                                                                                               \n",
      " product_id        | B00MBW5O9W                                                                                                                                                                                                                                                   \n",
      " product_parent    | 912374672                                                                                                                                                                                                                                                    \n",
      " product_title     | Warren Eckstein's Hugs & Kisses Vitamin Mineral Supplement Treat for Dogs                                                                                                                                                                                    \n",
      " product_category  | Pet Products                                                                                                                                                                                                                                                 \n",
      " star_rating       | 2                                                                                                                                                                                                                                                            \n",
      " helpful_votes     | 0                                                                                                                                                                                                                                                            \n",
      " total_votes       | 1                                                                                                                                                                                                                                                            \n",
      " vine              | N                                                                                                                                                                                                                                                            \n",
      " verified_purchase | Y                                                                                                                                                                                                                                                            \n",
      " review_headline   | My dogs love Hugs and Kisses                                                                                                                                                                                                                                 \n",
      " review_body       | My dogs love Hugs and Kisses.  However, the last time I bought a $40.00+ bottle from Amazon....something was wrong with them.  They are all stuck together and seemed moist.  Usually they are not.  Had to throw them out.                                  \n",
      " review_date       | 2015-08-31                                                                                                                                                                                                                                                   \n",
      "only showing top 2 rows\n",
      "\n"
     ]
    }
   ],
   "source": [
    "# Read in data\n",
    "df = spark.read.csv('pet_product_reviews.tsv', sep='\\t', header=True, inferSchema=True)\n",
    "df.show(2, vertical=True, truncate=False)"
   ]
  },
  {
   "cell_type": "code",
   "execution_count": 4,
   "metadata": {},
   "outputs": [
    {
     "name": "stdout",
     "output_type": "stream",
     "text": [
      "root\n",
      " |-- marketplace: string (nullable = true)\n",
      " |-- customer_id: integer (nullable = true)\n",
      " |-- review_id: string (nullable = true)\n",
      " |-- product_id: string (nullable = true)\n",
      " |-- product_parent: integer (nullable = true)\n",
      " |-- product_title: string (nullable = true)\n",
      " |-- product_category: string (nullable = true)\n",
      " |-- star_rating: integer (nullable = true)\n",
      " |-- helpful_votes: integer (nullable = true)\n",
      " |-- total_votes: integer (nullable = true)\n",
      " |-- vine: string (nullable = true)\n",
      " |-- verified_purchase: string (nullable = true)\n",
      " |-- review_headline: string (nullable = true)\n",
      " |-- review_body: string (nullable = true)\n",
      " |-- review_date: string (nullable = true)\n",
      "\n"
     ]
    },
    {
     "data": {
      "text/plain": [
       "2643619"
      ]
     },
     "execution_count": 4,
     "metadata": {},
     "output_type": "execute_result"
    }
   ],
   "source": [
    "# Schema and row count\n",
    "df.printSchema()\n",
    "df.count()"
   ]
  },
  {
   "cell_type": "code",
   "execution_count": null,
   "metadata": {},
   "outputs": [],
   "source": []
  }
 ],
 "metadata": {
  "colab": {
   "authorship_tag": "ABX9TyOGYybMYiiz1JzN6Wz9QV89",
   "collapsed_sections": [],
   "name": "etl.ipynb",
   "provenance": []
  },
  "kernelspec": {
   "display_name": "Python 3",
   "language": "python",
   "name": "python3"
  },
  "language_info": {
   "codemirror_mode": {
    "name": "ipython",
    "version": 3
   },
   "file_extension": ".py",
   "mimetype": "text/x-python",
   "name": "python",
   "nbconvert_exporter": "python",
   "pygments_lexer": "ipython3",
   "version": "3.7.9"
  }
 },
 "nbformat": 4,
 "nbformat_minor": 4
}
