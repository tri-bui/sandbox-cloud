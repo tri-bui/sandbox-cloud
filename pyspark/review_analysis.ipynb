{
 "cells": [
  {
   "cell_type": "markdown",
   "metadata": {},
   "source": [
    "# Amazon Review Analysis\n",
    "\n",
    "This is an analysis of the Amazon pet product reviews data. The goal is to determine whether or not there was any bias for reviews that were written as part of the Vine program. We will determine if having paid Vine reviews makes a difference in the percentage of 5-star reviews."
   ]
  },
  {
   "cell_type": "markdown",
   "metadata": {
    "id": "GniGJcylRnFl"
   },
   "source": [
    "### Dependencies and Data"
   ]
  },
  {
   "cell_type": "code",
   "execution_count": 14,
   "metadata": {
    "colab": {
     "base_uri": "https://localhost:8080/"
    },
    "executionInfo": {
     "elapsed": 22325,
     "status": "ok",
     "timestamp": 1615142195461,
     "user": {
      "displayName": "Tri",
      "photoUrl": "",
      "userId": "18100809214550483764"
     },
     "user_tz": 480
    },
    "id": "7roME6jkLP08",
    "outputId": "7975985a-d743-4b44-9b46-e0188f4db2bc"
   },
   "outputs": [
    {
     "data": {
      "text/html": [
       "\n",
       "            <div>\n",
       "                <p><b>SparkSession - in-memory</b></p>\n",
       "                \n",
       "        <div>\n",
       "            <p><b>SparkContext</b></p>\n",
       "\n",
       "            <p><a href=\"http://192.168.4.26:4040\">Spark UI</a></p>\n",
       "\n",
       "            <dl>\n",
       "              <dt>Version</dt>\n",
       "                <dd><code>v3.0.1</code></dd>\n",
       "              <dt>Master</dt>\n",
       "                <dd><code>local[*]</code></dd>\n",
       "              <dt>AppName</dt>\n",
       "                <dd><code>amz</code></dd>\n",
       "            </dl>\n",
       "        </div>\n",
       "        \n",
       "            </div>\n",
       "        "
      ],
      "text/plain": [
       "<pyspark.sql.session.SparkSession at 0x7fba1f665850>"
      ]
     },
     "execution_count": 14,
     "metadata": {},
     "output_type": "execute_result"
    }
   ],
   "source": [
    "# Locate Spark\n",
    "import findspark\n",
    "findspark.init()\n",
    "\n",
    "# Dependencies\n",
    "from pyspark import SparkFiles\n",
    "from pyspark.sql import SparkSession\n",
    "\n",
    "# Spark session adding the Postgres driver to Spark\n",
    "spark = SparkSession.builder.appName('amz').getOrCreate()\n",
    "spark"
   ]
  },
  {
   "cell_type": "code",
   "execution_count": 20,
   "metadata": {},
   "outputs": [
    {
     "name": "stdout",
     "output_type": "stream",
     "text": [
      "2643619\n",
      "-RECORD 0-------------------------------------------------------------------------------------------------------------------------------------------------------------------------------------------------------------------------------------------------------------------------\n",
      " marketplace       | US                                                                                                                                                                                                                                                           \n",
      " customer_id       | 28794885                                                                                                                                                                                                                                                     \n",
      " review_id         | REAKC26P07MDN                                                                                                                                                                                                                                                \n",
      " product_id        | B00Q0K9604                                                                                                                                                                                                                                                   \n",
      " product_parent    | 510387886                                                                                                                                                                                                                                                    \n",
      " product_title     | (8-Pack) EZwhelp Belly Band/Wrap                                                                                                                                                                                                                             \n",
      " product_category  | Pet Products                                                                                                                                                                                                                                                 \n",
      " star_rating       | 5                                                                                                                                                                                                                                                            \n",
      " helpful_votes     | 0                                                                                                                                                                                                                                                            \n",
      " total_votes       | 0                                                                                                                                                                                                                                                            \n",
      " vine              | N                                                                                                                                                                                                                                                            \n",
      " verified_purchase | Y                                                                                                                                                                                                                                                            \n",
      " review_headline   | A great purchase for \"dribbly\" dogs                                                                                                                                                                                                                          \n",
      " review_body       | Best belly bands on the market!  These are a great deal for an 8 pack.  Before we had 2 of another brand and we were constantly washing them and the velcro kept getting loose.  These are secure and with 8 in a pack, you can put on a fresh one each day. \n",
      " review_date       | 2015-08-31                                                                                                                                                                                                                                                   \n",
      "only showing top 1 row\n",
      "\n"
     ]
    }
   ],
   "source": [
    "# Read in data\n",
    "df = spark.read.csv('pet_product_reviews.tsv', sep='\\t', header=True, inferSchema=True)\n",
    "print(df.count())\n",
    "df.show(1, vertical=True, truncate=False)"
   ]
  },
  {
   "cell_type": "markdown",
   "metadata": {},
   "source": [
    "### Vine Reviews vs. Non-vine Reviews\n",
    "\n",
    "1. Filter for rows where:\n",
    "    - `total_votes` >= 5 (at least 5 votes)\n",
    "    - `helpful_votes` / `total_votes` >= 0.2 (at least 20% of the votes are helpful)\n",
    "2. Split the filtered data into `vine` reviews and non-`vine` reviews\n",
    "3. Compare the percentage of 5-star reviews from the 2 groups"
   ]
  },
  {
   "cell_type": "code",
   "execution_count": 26,
   "metadata": {},
   "outputs": [
    {
     "data": {
      "text/plain": [
       "196299"
      ]
     },
     "execution_count": 26,
     "metadata": {},
     "output_type": "execute_result"
    }
   ],
   "source": [
    "# Filter data\n",
    "filtered_df = df.filter(df['total_votes'] >= 5)\n",
    "filtered_df = filtered_df.filter(df['helpful_votes'] / df['total_votes'] >= 0.2)\n",
    "filtered_df.count()"
   ]
  },
  {
   "cell_type": "code",
   "execution_count": 29,
   "metadata": {},
   "outputs": [
    {
     "data": {
      "text/plain": [
       "(752, 195547)"
      ]
     },
     "execution_count": 29,
     "metadata": {},
     "output_type": "execute_result"
    }
   ],
   "source": [
    "# Vine reviews\n",
    "vine_df = filtered_df.filter(filtered_df['vine'] == 'Y')\n",
    "vine_count = vine_df.count()\n",
    "\n",
    "# Non-vine reviews\n",
    "nonvine_df = filtered_df.filter(filtered_df['vine'] == 'N')\n",
    "nonvine_count = nonvine_df.count()\n",
    "\n",
    "vine_count, nonvine_count"
   ]
  },
  {
   "cell_type": "code",
   "execution_count": 30,
   "metadata": {},
   "outputs": [
    {
     "data": {
      "text/plain": [
       "(277, 98785)"
      ]
     },
     "execution_count": 30,
     "metadata": {},
     "output_type": "execute_result"
    }
   ],
   "source": [
    "# 5-star count for vine reviews\n",
    "vine5_df = vine_df.filter(vine_df['star_rating'] == 5)\n",
    "vine5_count = vine5_df.count()\n",
    "\n",
    "# 5-star count for non-vine reviews\n",
    "nonvine5_df = nonvine_df.filter(nonvine_df['star_rating'] == 5)\n",
    "nonvine5_count = nonvine5_df.count()\n",
    "\n",
    "vine5_count, nonvine5_count"
   ]
  },
  {
   "cell_type": "code",
   "execution_count": 32,
   "metadata": {},
   "outputs": [
    {
     "name": "stdout",
     "output_type": "stream",
     "text": [
      "Vine 5-star review %: 36.83510638297872\n",
      "Non-vine 5-star review %: 50.51726694861082\n"
     ]
    }
   ],
   "source": [
    "# 5-star percentages\n",
    "print('Vine 5-star review %:', vine5_count / vine_count * 100)\n",
    "print('Non-vine 5-star review %:', nonvine5_count / nonvine_count * 100)"
   ]
  },
  {
   "cell_type": "markdown",
   "metadata": {},
   "source": [
    "### Comparison with Equal Sampling\n",
    "\n",
    "The comparison above is extremely unfair as there were 195,547 reviews in the `non-vine` group and only 752 reviews in the `vine` group (less than 1% of the reviews). So we will now use random sampling with replacement to produce 2 equal groups and make the comparison again."
   ]
  },
  {
   "cell_type": "code",
   "execution_count": null,
   "metadata": {},
   "outputs": [],
   "source": []
  }
 ],
 "metadata": {
  "colab": {
   "authorship_tag": "ABX9TyOGYybMYiiz1JzN6Wz9QV89",
   "collapsed_sections": [],
   "name": "etl.ipynb",
   "provenance": []
  },
  "kernelspec": {
   "display_name": "Python 3",
   "language": "python",
   "name": "python3"
  },
  "language_info": {
   "codemirror_mode": {
    "name": "ipython",
    "version": 3
   },
   "file_extension": ".py",
   "mimetype": "text/x-python",
   "name": "python",
   "nbconvert_exporter": "python",
   "pygments_lexer": "ipython3",
   "version": "3.7.9"
  }
 },
 "nbformat": 4,
 "nbformat_minor": 4
}
